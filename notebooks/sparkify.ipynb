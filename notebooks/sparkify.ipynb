{
 "cells": [
  {
   "cell_type": "markdown",
   "id": "6ec17b9e",
   "metadata": {},
   "source": [
    "# Data Lake with Spark (Project 4)"
   ]
  },
  {
   "cell_type": "code",
   "execution_count": 1,
   "id": "3505db59",
   "metadata": {},
   "outputs": [
    {
     "data": {
      "application/vnd.jupyter.widget-view+json": {
       "model_id": "ae01d3ee4c53484f942d9aace85f355e",
       "version_major": 2,
       "version_minor": 0
      },
      "text/plain": [
       "VBox()"
      ]
     },
     "metadata": {},
     "output_type": "display_data"
    },
    {
     "name": "stdout",
     "output_type": "stream",
     "text": [
      "Starting Spark application\n"
     ]
    },
    {
     "data": {
      "text/html": [
       "<table>\n",
       "<tr><th>ID</th><th>YARN Application ID</th><th>Kind</th><th>State</th><th>Spark UI</th><th>Driver log</th><th>Current session?</th></tr><tr><td>1</td><td>application_1623882928780_0003</td><td>pyspark</td><td>idle</td><td><a target=\"_blank\" href=\"http://ip-172-31-29-29.us-west-2.compute.internal:20888/proxy/application_1623882928780_0003/\">Link</a></td><td><a target=\"_blank\" href=\"http://ip-172-31-31-148.us-west-2.compute.internal:8042/node/containerlogs/container_1623882928780_0003_01_000001/livy\">Link</a></td><td>✔</td></tr></table>"
      ],
      "text/plain": [
       "<IPython.core.display.HTML object>"
      ]
     },
     "metadata": {},
     "output_type": "display_data"
    },
    {
     "data": {
      "application/vnd.jupyter.widget-view+json": {
       "model_id": "",
       "version_major": 2,
       "version_minor": 0
      },
      "text/plain": [
       "FloatProgress(value=0.0, bar_style='info', description='Progress:', layout=Layout(height='25px', width='50%'),…"
      ]
     },
     "metadata": {},
     "output_type": "display_data"
    },
    {
     "name": "stdout",
     "output_type": "stream",
     "text": [
      "SparkSession available as 'spark'.\n"
     ]
    },
    {
     "data": {
      "application/vnd.jupyter.widget-view+json": {
       "model_id": "",
       "version_major": 2,
       "version_minor": 0
      },
      "text/plain": [
       "FloatProgress(value=0.0, bar_style='info', description='Progress:', layout=Layout(height='25px', width='50%'),…"
      ]
     },
     "metadata": {},
     "output_type": "display_data"
    }
   ],
   "source": [
    "from pyspark.sql import SparkSession"
   ]
  },
  {
   "cell_type": "code",
   "execution_count": 2,
   "id": "96592f4a",
   "metadata": {},
   "outputs": [
    {
     "data": {
      "application/vnd.jupyter.widget-view+json": {
       "model_id": "dc555fb44167407da88275db345a7954",
       "version_major": 2,
       "version_minor": 0
      },
      "text/plain": [
       "VBox()"
      ]
     },
     "metadata": {},
     "output_type": "display_data"
    },
    {
     "data": {
      "application/vnd.jupyter.widget-view+json": {
       "model_id": "",
       "version_major": 2,
       "version_minor": 0
      },
      "text/plain": [
       "FloatProgress(value=0.0, bar_style='info', description='Progress:', layout=Layout(height='25px', width='50%'),…"
      ]
     },
     "metadata": {},
     "output_type": "display_data"
    }
   ],
   "source": [
    "def create_spark_session():\n",
    "    spark = SparkSession \\\n",
    "        .builder \\\n",
    "        .config(\"spark.jars.packages\", \"org.apache.hadoop:hadoop-aws:2.7.0\") \\\n",
    "        .getOrCreate()\n",
    "    return spark"
   ]
  },
  {
   "cell_type": "code",
   "execution_count": 3,
   "id": "663311e7",
   "metadata": {},
   "outputs": [
    {
     "data": {
      "application/vnd.jupyter.widget-view+json": {
       "model_id": "9da181eb581140b5a4be4c50f1f6af52",
       "version_major": 2,
       "version_minor": 0
      },
      "text/plain": [
       "VBox()"
      ]
     },
     "metadata": {},
     "output_type": "display_data"
    },
    {
     "data": {
      "application/vnd.jupyter.widget-view+json": {
       "model_id": "",
       "version_major": 2,
       "version_minor": 0
      },
      "text/plain": [
       "FloatProgress(value=0.0, bar_style='info', description='Progress:', layout=Layout(height='25px', width='50%'),…"
      ]
     },
     "metadata": {},
     "output_type": "display_data"
    }
   ],
   "source": [
    "spark = create_spark_session()"
   ]
  },
  {
   "cell_type": "markdown",
   "id": "0ccee92b",
   "metadata": {},
   "source": [
    "# Initialize"
   ]
  },
  {
   "cell_type": "markdown",
   "id": "4e0633e6",
   "metadata": {},
   "source": [
    "Run this command to remove any existing files in processed directory in HDFS.\n",
    "\n",
    "```bash\n",
    "hadoop fs -rm -r hdfs:///processed/*\n",
    "```"
   ]
  },
  {
   "cell_type": "markdown",
   "id": "685e2f66",
   "metadata": {},
   "source": [
    "# Songs dataset"
   ]
  },
  {
   "cell_type": "markdown",
   "id": "8675a013",
   "metadata": {},
   "source": [
    "## Load data"
   ]
  },
  {
   "cell_type": "code",
   "execution_count": 4,
   "id": "dccab81e",
   "metadata": {},
   "outputs": [
    {
     "data": {
      "application/vnd.jupyter.widget-view+json": {
       "model_id": "cb6aba0484064545a01e23d4bddec0c9",
       "version_major": 2,
       "version_minor": 0
      },
      "text/plain": [
       "VBox()"
      ]
     },
     "metadata": {},
     "output_type": "display_data"
    },
    {
     "data": {
      "application/vnd.jupyter.widget-view+json": {
       "model_id": "",
       "version_major": 2,
       "version_minor": 0
      },
      "text/plain": [
       "FloatProgress(value=0.0, bar_style='info', description='Progress:', layout=Layout(height='25px', width='50%'),…"
      ]
     },
     "metadata": {},
     "output_type": "display_data"
    }
   ],
   "source": [
    "staging_songs = spark.read.json(\"s3a://udacity-dend/song-data/A/A/*/*.json\")  # TODO: change A/A to */* in prod"
   ]
  },
  {
   "cell_type": "code",
   "execution_count": 5,
   "id": "b5c3eb71",
   "metadata": {},
   "outputs": [
    {
     "data": {
      "application/vnd.jupyter.widget-view+json": {
       "model_id": "5c00f91148dc4e1babe124c206c8ada3",
       "version_major": 2,
       "version_minor": 0
      },
      "text/plain": [
       "VBox()"
      ]
     },
     "metadata": {},
     "output_type": "display_data"
    },
    {
     "data": {
      "application/vnd.jupyter.widget-view+json": {
       "model_id": "",
       "version_major": 2,
       "version_minor": 0
      },
      "text/plain": [
       "FloatProgress(value=0.0, bar_style='info', description='Progress:', layout=Layout(height='25px', width='50%'),…"
      ]
     },
     "metadata": {},
     "output_type": "display_data"
    }
   ],
   "source": [
    "staging_songs.createOrReplaceTempView(\"staging_songs\")"
   ]
  },
  {
   "cell_type": "markdown",
   "id": "2243510a",
   "metadata": {},
   "source": [
    "## Transform"
   ]
  },
  {
   "cell_type": "markdown",
   "id": "ad36588d",
   "metadata": {},
   "source": [
    "### Songs"
   ]
  },
  {
   "cell_type": "code",
   "execution_count": 6,
   "id": "e69cbf58",
   "metadata": {},
   "outputs": [
    {
     "data": {
      "application/vnd.jupyter.widget-view+json": {
       "model_id": "2b3ae65e0b3745829b760292f1fd5fa9",
       "version_major": 2,
       "version_minor": 0
      },
      "text/plain": [
       "VBox()"
      ]
     },
     "metadata": {},
     "output_type": "display_data"
    },
    {
     "data": {
      "application/vnd.jupyter.widget-view+json": {
       "model_id": "",
       "version_major": 2,
       "version_minor": 0
      },
      "text/plain": [
       "FloatProgress(value=0.0, bar_style='info', description='Progress:', layout=Layout(height='25px', width='50%'),…"
      ]
     },
     "metadata": {},
     "output_type": "display_data"
    }
   ],
   "source": [
    "songs = spark.sql(\n",
    "'''\n",
    "    select\n",
    "        song_id,\n",
    "        title,\n",
    "        artist_id,\n",
    "        year,\n",
    "        duration\n",
    "    from\n",
    "        staging_songs\n",
    "'''\n",
    ")"
   ]
  },
  {
   "cell_type": "code",
   "execution_count": 7,
   "id": "408a40fa",
   "metadata": {},
   "outputs": [
    {
     "data": {
      "application/vnd.jupyter.widget-view+json": {
       "model_id": "fcc1833011444b92a47f4b993b270eb0",
       "version_major": 2,
       "version_minor": 0
      },
      "text/plain": [
       "VBox()"
      ]
     },
     "metadata": {},
     "output_type": "display_data"
    },
    {
     "data": {
      "application/vnd.jupyter.widget-view+json": {
       "model_id": "",
       "version_major": 2,
       "version_minor": 0
      },
      "text/plain": [
       "FloatProgress(value=0.0, bar_style='info', description='Progress:', layout=Layout(height='25px', width='50%'),…"
      ]
     },
     "metadata": {},
     "output_type": "display_data"
    }
   ],
   "source": [
    "songs.write \\\n",
    "     .partitionBy('year', 'artist_id') \\\n",
    "     .mode('overwrite') \\\n",
    "     .parquet('hdfs:///processed/songs')"
   ]
  },
  {
   "cell_type": "markdown",
   "id": "5de5924c",
   "metadata": {},
   "source": [
    "### Artists"
   ]
  },
  {
   "cell_type": "code",
   "execution_count": 8,
   "id": "44d2421b",
   "metadata": {},
   "outputs": [
    {
     "data": {
      "application/vnd.jupyter.widget-view+json": {
       "model_id": "b496a0c8250148818bc701ee12eb1d9a",
       "version_major": 2,
       "version_minor": 0
      },
      "text/plain": [
       "VBox()"
      ]
     },
     "metadata": {},
     "output_type": "display_data"
    },
    {
     "data": {
      "application/vnd.jupyter.widget-view+json": {
       "model_id": "",
       "version_major": 2,
       "version_minor": 0
      },
      "text/plain": [
       "FloatProgress(value=0.0, bar_style='info', description='Progress:', layout=Layout(height='25px', width='50%'),…"
      ]
     },
     "metadata": {},
     "output_type": "display_data"
    }
   ],
   "source": [
    "artists = spark.sql(\n",
    "'''\n",
    "    select\n",
    "        artist_id,\n",
    "        max(artist_name) as name,\n",
    "        max(artist_location) as location,\n",
    "        max(artist_latitude) as latitude,\n",
    "        max(artist_longitude) as longitude\n",
    "    from\n",
    "        staging_songs\n",
    "    group by 1\n",
    "'''\n",
    ")"
   ]
  },
  {
   "cell_type": "code",
   "execution_count": 9,
   "id": "87894e20",
   "metadata": {},
   "outputs": [
    {
     "data": {
      "application/vnd.jupyter.widget-view+json": {
       "model_id": "73c70f706c0c4086ace03258f3d30ca5",
       "version_major": 2,
       "version_minor": 0
      },
      "text/plain": [
       "VBox()"
      ]
     },
     "metadata": {},
     "output_type": "display_data"
    },
    {
     "data": {
      "application/vnd.jupyter.widget-view+json": {
       "model_id": "",
       "version_major": 2,
       "version_minor": 0
      },
      "text/plain": [
       "FloatProgress(value=0.0, bar_style='info', description='Progress:', layout=Layout(height='25px', width='50%'),…"
      ]
     },
     "metadata": {},
     "output_type": "display_data"
    }
   ],
   "source": [
    "artists.write \\\n",
    "       .mode('overwrite') \\\n",
    "       .parquet('hdfs:///processed/artists')"
   ]
  },
  {
   "cell_type": "markdown",
   "id": "7de9d3c8",
   "metadata": {},
   "source": [
    "# Logs dataset"
   ]
  },
  {
   "cell_type": "markdown",
   "id": "3e37093d",
   "metadata": {},
   "source": [
    "## Load data"
   ]
  },
  {
   "cell_type": "code",
   "execution_count": 10,
   "id": "bf4aa9d1",
   "metadata": {},
   "outputs": [
    {
     "data": {
      "application/vnd.jupyter.widget-view+json": {
       "model_id": "287d2e7efc6040ac93fdf840d9ed4e34",
       "version_major": 2,
       "version_minor": 0
      },
      "text/plain": [
       "VBox()"
      ]
     },
     "metadata": {},
     "output_type": "display_data"
    },
    {
     "data": {
      "application/vnd.jupyter.widget-view+json": {
       "model_id": "",
       "version_major": 2,
       "version_minor": 0
      },
      "text/plain": [
       "FloatProgress(value=0.0, bar_style='info', description='Progress:', layout=Layout(height='25px', width='50%'),…"
      ]
     },
     "metadata": {},
     "output_type": "display_data"
    }
   ],
   "source": [
    "base_events = spark.read.json(\"s3a://udacity-dend/log-data/*/*/*.json\")"
   ]
  },
  {
   "cell_type": "code",
   "execution_count": 11,
   "id": "4a332e54",
   "metadata": {},
   "outputs": [
    {
     "data": {
      "application/vnd.jupyter.widget-view+json": {
       "model_id": "3a78338927974d7a96ebae047a81189c",
       "version_major": 2,
       "version_minor": 0
      },
      "text/plain": [
       "VBox()"
      ]
     },
     "metadata": {},
     "output_type": "display_data"
    },
    {
     "data": {
      "application/vnd.jupyter.widget-view+json": {
       "model_id": "",
       "version_major": 2,
       "version_minor": 0
      },
      "text/plain": [
       "FloatProgress(value=0.0, bar_style='info', description='Progress:', layout=Layout(height='25px', width='50%'),…"
      ]
     },
     "metadata": {},
     "output_type": "display_data"
    }
   ],
   "source": [
    "base_events.createOrReplaceTempView(\"base_events\")"
   ]
  },
  {
   "cell_type": "code",
   "execution_count": 12,
   "id": "d5fa0b43",
   "metadata": {},
   "outputs": [
    {
     "data": {
      "application/vnd.jupyter.widget-view+json": {
       "model_id": "437eef158ec64ee196ec277f0b238f51",
       "version_major": 2,
       "version_minor": 0
      },
      "text/plain": [
       "VBox()"
      ]
     },
     "metadata": {},
     "output_type": "display_data"
    },
    {
     "data": {
      "application/vnd.jupyter.widget-view+json": {
       "model_id": "",
       "version_major": 2,
       "version_minor": 0
      },
      "text/plain": [
       "FloatProgress(value=0.0, bar_style='info', description='Progress:', layout=Layout(height='25px', width='50%'),…"
      ]
     },
     "metadata": {},
     "output_type": "display_data"
    }
   ],
   "source": [
    "staging_events = spark.sql(\n",
    "'''\n",
    "    select\n",
    "        artist as artist,\n",
    "        auth as auth,\n",
    "        firstName as first_name,\n",
    "        gender as gender,\n",
    "        itemInSession as item_in_session,\n",
    "        lastName as last_name,\n",
    "        length as length,\n",
    "        level as level,\n",
    "        location as location,\n",
    "        method as method,\n",
    "        page as page,\n",
    "        registration as registration,\n",
    "        sessionId as session_id,\n",
    "        song as song,\n",
    "        status as status,\n",
    "        ts as ts,\n",
    "        userAgent as user_agent,\n",
    "        userId as user_id\n",
    "    from\n",
    "        base_events\n",
    "'''\n",
    ")"
   ]
  },
  {
   "cell_type": "code",
   "execution_count": 13,
   "id": "f29c66d9",
   "metadata": {},
   "outputs": [
    {
     "data": {
      "application/vnd.jupyter.widget-view+json": {
       "model_id": "d6c5b21e1f864ded97968cb500add0f8",
       "version_major": 2,
       "version_minor": 0
      },
      "text/plain": [
       "VBox()"
      ]
     },
     "metadata": {},
     "output_type": "display_data"
    },
    {
     "data": {
      "application/vnd.jupyter.widget-view+json": {
       "model_id": "",
       "version_major": 2,
       "version_minor": 0
      },
      "text/plain": [
       "FloatProgress(value=0.0, bar_style='info', description='Progress:', layout=Layout(height='25px', width='50%'),…"
      ]
     },
     "metadata": {},
     "output_type": "display_data"
    }
   ],
   "source": [
    "staging_events.createOrReplaceTempView(\"staging_events\")"
   ]
  },
  {
   "cell_type": "markdown",
   "id": "2c4bcf51",
   "metadata": {},
   "source": [
    "## Transform"
   ]
  },
  {
   "cell_type": "markdown",
   "id": "efd5e13d",
   "metadata": {},
   "source": [
    "### Users"
   ]
  },
  {
   "cell_type": "code",
   "execution_count": 14,
   "id": "539ae4ec",
   "metadata": {},
   "outputs": [
    {
     "data": {
      "application/vnd.jupyter.widget-view+json": {
       "model_id": "bd812b9df89a4ec0a9d41ec0ee1cbb94",
       "version_major": 2,
       "version_minor": 0
      },
      "text/plain": [
       "VBox()"
      ]
     },
     "metadata": {},
     "output_type": "display_data"
    },
    {
     "data": {
      "application/vnd.jupyter.widget-view+json": {
       "model_id": "",
       "version_major": 2,
       "version_minor": 0
      },
      "text/plain": [
       "FloatProgress(value=0.0, bar_style='info', description='Progress:', layout=Layout(height='25px', width='50%'),…"
      ]
     },
     "metadata": {},
     "output_type": "display_data"
    }
   ],
   "source": [
    "users = spark.sql(\n",
    "'''\n",
    "    with events as\n",
    "    (\n",
    "        select * from staging_events\n",
    "    ),\n",
    "\n",
    "    add_row_number_and_remove_null_ids as\n",
    "    (\n",
    "        select\n",
    "            *,\n",
    "            row_number() over (partition by user_id order by ts desc) as row_number_by_user\n",
    "        from\n",
    "            events\n",
    "        where\n",
    "            user_id is not null\n",
    "    ),\n",
    "    \n",
    "    latest_user_events as\n",
    "    (\n",
    "        -- this is done to get latest user event since `level` can change over time\n",
    "        select\n",
    "            *\n",
    "        from\n",
    "            add_row_number_and_remove_null_ids\n",
    "        where\n",
    "            row_number_by_user = 1\n",
    "    )\n",
    "\n",
    "    select\n",
    "        user_id,\n",
    "        first_name,\n",
    "        last_name,\n",
    "        gender,\n",
    "        level\n",
    "    from\n",
    "        latest_user_events\n",
    "'''\n",
    ")"
   ]
  },
  {
   "cell_type": "code",
   "execution_count": 15,
   "id": "446a238e",
   "metadata": {},
   "outputs": [
    {
     "data": {
      "application/vnd.jupyter.widget-view+json": {
       "model_id": "1b830d65ad5e4ff6aec3339123d65c44",
       "version_major": 2,
       "version_minor": 0
      },
      "text/plain": [
       "VBox()"
      ]
     },
     "metadata": {},
     "output_type": "display_data"
    },
    {
     "data": {
      "application/vnd.jupyter.widget-view+json": {
       "model_id": "",
       "version_major": 2,
       "version_minor": 0
      },
      "text/plain": [
       "FloatProgress(value=0.0, bar_style='info', description='Progress:', layout=Layout(height='25px', width='50%'),…"
      ]
     },
     "metadata": {},
     "output_type": "display_data"
    }
   ],
   "source": [
    "users.write \\\n",
    "     .mode('overwrite') \\\n",
    "     .parquet('hdfs:///processed/users')"
   ]
  },
  {
   "cell_type": "markdown",
   "id": "7af6e21d",
   "metadata": {},
   "source": [
    "### Songplays"
   ]
  },
  {
   "cell_type": "code",
   "execution_count": 16,
   "id": "7ba19c9f",
   "metadata": {},
   "outputs": [
    {
     "data": {
      "application/vnd.jupyter.widget-view+json": {
       "model_id": "89ac3311b8134d6ba11a5986d469ef1a",
       "version_major": 2,
       "version_minor": 0
      },
      "text/plain": [
       "VBox()"
      ]
     },
     "metadata": {},
     "output_type": "display_data"
    },
    {
     "data": {
      "application/vnd.jupyter.widget-view+json": {
       "model_id": "",
       "version_major": 2,
       "version_minor": 0
      },
      "text/plain": [
       "FloatProgress(value=0.0, bar_style='info', description='Progress:', layout=Layout(height='25px', width='50%'),…"
      ]
     },
     "metadata": {},
     "output_type": "display_data"
    }
   ],
   "source": [
    "songplays = spark.sql(\n",
    "'''\n",
    "    with events as\n",
    "    (\n",
    "       select * from staging_events\n",
    "    ),\n",
    "\n",
    "    songs as\n",
    "    (\n",
    "        select * from staging_songs\n",
    "    ),\n",
    "\n",
    "    only_next_song_events as\n",
    "    (\n",
    "        select\n",
    "            *\n",
    "        from\n",
    "            events\n",
    "        where\n",
    "            page = 'NextSong'\n",
    "    ),\n",
    "\n",
    "    events_with_converted_timestamp as\n",
    "    (\n",
    "        select\n",
    "            *,\n",
    "            from_unixtime(ts / 1000) as start_time\n",
    "        from\n",
    "            only_next_song_events\n",
    "    ),\n",
    "\n",
    "    joined as\n",
    "    (\n",
    "        select\n",
    "            e.start_time,\n",
    "            e.user_id,\n",
    "            e.level,\n",
    "            s.song_id,\n",
    "            s.artist_id,\n",
    "            e.session_id,\n",
    "            e.location,\n",
    "            e.user_agent\n",
    "        from\n",
    "            events_with_converted_timestamp e\n",
    "            left outer join songs s on e.song = s.title\n",
    "    ),\n",
    "\n",
    "    final as (\n",
    "        select\n",
    "            -- create songplay id based on other columns that form a unique combination\n",
    "            md5(\n",
    "                coalesce(cast(user_id as string), '') || coalesce(song_id, '') || coalesce(cast(start_time as string), '')\n",
    "            ) as songplay_id,\n",
    "            *\n",
    "        from\n",
    "            joined\n",
    "    )\n",
    "\n",
    "    select * from final\n",
    "\n",
    "'''\n",
    ")"
   ]
  },
  {
   "cell_type": "code",
   "execution_count": 17,
   "id": "77815ba9",
   "metadata": {},
   "outputs": [
    {
     "data": {
      "application/vnd.jupyter.widget-view+json": {
       "model_id": "176d727988e44fed856e1e7d3d31aa38",
       "version_major": 2,
       "version_minor": 0
      },
      "text/plain": [
       "VBox()"
      ]
     },
     "metadata": {},
     "output_type": "display_data"
    },
    {
     "data": {
      "application/vnd.jupyter.widget-view+json": {
       "model_id": "",
       "version_major": 2,
       "version_minor": 0
      },
      "text/plain": [
       "FloatProgress(value=0.0, bar_style='info', description='Progress:', layout=Layout(height='25px', width='50%'),…"
      ]
     },
     "metadata": {},
     "output_type": "display_data"
    }
   ],
   "source": [
    "songplays.createOrReplaceTempView(\"songplays\")  # Register as temp view to be used as time table dependency"
   ]
  },
  {
   "cell_type": "code",
   "execution_count": 18,
   "id": "51cbf4b3",
   "metadata": {},
   "outputs": [
    {
     "data": {
      "application/vnd.jupyter.widget-view+json": {
       "model_id": "7842efdd7d894a85a38128431db8f40c",
       "version_major": 2,
       "version_minor": 0
      },
      "text/plain": [
       "VBox()"
      ]
     },
     "metadata": {},
     "output_type": "display_data"
    },
    {
     "data": {
      "application/vnd.jupyter.widget-view+json": {
       "model_id": "",
       "version_major": 2,
       "version_minor": 0
      },
      "text/plain": [
       "FloatProgress(value=0.0, bar_style='info', description='Progress:', layout=Layout(height='25px', width='50%'),…"
      ]
     },
     "metadata": {},
     "output_type": "display_data"
    }
   ],
   "source": [
    "songplays.write \\\n",
    "         .partitionBy('user_id') \\\n",
    "         .mode('overwrite') \\\n",
    "         .parquet('hdfs:///processed/songplays')"
   ]
  },
  {
   "cell_type": "markdown",
   "id": "38339d22",
   "metadata": {},
   "source": [
    "### Time"
   ]
  },
  {
   "cell_type": "code",
   "execution_count": 19,
   "id": "85e6e123",
   "metadata": {},
   "outputs": [
    {
     "data": {
      "application/vnd.jupyter.widget-view+json": {
       "model_id": "1df242ab8c504036ac0013e66f9fdedd",
       "version_major": 2,
       "version_minor": 0
      },
      "text/plain": [
       "VBox()"
      ]
     },
     "metadata": {},
     "output_type": "display_data"
    },
    {
     "data": {
      "application/vnd.jupyter.widget-view+json": {
       "model_id": "",
       "version_major": 2,
       "version_minor": 0
      },
      "text/plain": [
       "FloatProgress(value=0.0, bar_style='info', description='Progress:', layout=Layout(height='25px', width='50%'),…"
      ]
     },
     "metadata": {},
     "output_type": "display_data"
    }
   ],
   "source": [
    "time = spark.sql(\n",
    "'''\n",
    "    select\n",
    "        start_time,\n",
    "        extract(hour from start_time) as hour,\n",
    "        extract(day from start_time) as day,\n",
    "        extract(week from start_time) as week,\n",
    "        extract(month from start_time) as month,\n",
    "        extract(year from start_time) as year,\n",
    "        dayofweek(start_time) as weekday\n",
    "    from\n",
    "        songplays\n",
    "\n",
    "'''\n",
    ")"
   ]
  },
  {
   "cell_type": "code",
   "execution_count": 20,
   "id": "029072ea",
   "metadata": {},
   "outputs": [
    {
     "data": {
      "application/vnd.jupyter.widget-view+json": {
       "model_id": "04c2553ed1cc467b8c444a5a770a1018",
       "version_major": 2,
       "version_minor": 0
      },
      "text/plain": [
       "VBox()"
      ]
     },
     "metadata": {},
     "output_type": "display_data"
    },
    {
     "data": {
      "application/vnd.jupyter.widget-view+json": {
       "model_id": "",
       "version_major": 2,
       "version_minor": 0
      },
      "text/plain": [
       "FloatProgress(value=0.0, bar_style='info', description='Progress:', layout=Layout(height='25px', width='50%'),…"
      ]
     },
     "metadata": {},
     "output_type": "display_data"
    }
   ],
   "source": [
    "time.write \\\n",
    "    .partitionBy('year', 'month') \\\n",
    "    .mode('overwrite') \\\n",
    "    .parquet('hdfs:///processed/time')"
   ]
  },
  {
   "cell_type": "markdown",
   "id": "720cb61d",
   "metadata": {},
   "source": [
    "## Drop temp views"
   ]
  },
  {
   "cell_type": "code",
   "execution_count": 21,
   "id": "27e90cee",
   "metadata": {},
   "outputs": [
    {
     "data": {
      "application/vnd.jupyter.widget-view+json": {
       "model_id": "9cc3eef1d02042ad921793f1ad8375f0",
       "version_major": 2,
       "version_minor": 0
      },
      "text/plain": [
       "VBox()"
      ]
     },
     "metadata": {},
     "output_type": "display_data"
    },
    {
     "data": {
      "application/vnd.jupyter.widget-view+json": {
       "model_id": "",
       "version_major": 2,
       "version_minor": 0
      },
      "text/plain": [
       "FloatProgress(value=0.0, bar_style='info', description='Progress:', layout=Layout(height='25px', width='50%'),…"
      ]
     },
     "metadata": {},
     "output_type": "display_data"
    }
   ],
   "source": [
    "spark.catalog.dropTempView(\"staging_songs\")\n",
    "spark.catalog.dropTempView(\"base_events\")\n",
    "spark.catalog.dropTempView(\"staging_events\")\n",
    "spark.catalog.dropTempView(\"songplays\")"
   ]
  },
  {
   "cell_type": "markdown",
   "id": "e2ace226",
   "metadata": {},
   "source": [
    "## Copy from HDFS to S3"
   ]
  },
  {
   "cell_type": "markdown",
   "id": "88d9b4e1",
   "metadata": {},
   "source": [
    "Finally, run this command to copy from HDFS to S3:\n",
    "\n",
    "```bash\n",
    "s3-dist-cp \\\n",
    "--src hdfs:///processed \\\n",
    "--dest s3a://udacity-data-lake-spark/processed\n",
    "```"
   ]
  },
  {
   "cell_type": "code",
   "execution_count": null,
   "id": "7ab9424e",
   "metadata": {},
   "outputs": [],
   "source": []
  }
 ],
 "metadata": {
  "kernelspec": {
   "display_name": "PySpark",
   "language": "",
   "name": "pysparkkernel"
  },
  "language_info": {
   "codemirror_mode": {
    "name": "python",
    "version": 2
   },
   "mimetype": "text/x-python",
   "name": "pyspark",
   "pygments_lexer": "python2"
  }
 },
 "nbformat": 4,
 "nbformat_minor": 5
}
