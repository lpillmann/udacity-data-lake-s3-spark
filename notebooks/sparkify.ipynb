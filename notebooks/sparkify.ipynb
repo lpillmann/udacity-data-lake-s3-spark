{
 "cells": [
  {
   "cell_type": "markdown",
   "id": "a79b3559",
   "metadata": {},
   "source": [
    "# Data Lake with Spark (Project 4)"
   ]
  },
  {
   "cell_type": "code",
   "execution_count": 1,
   "id": "7e2dd652",
   "metadata": {},
   "outputs": [
    {
     "data": {
      "application/vnd.jupyter.widget-view+json": {
       "model_id": "579b58fd35f44c5bac721164f34889ed",
       "version_major": 2,
       "version_minor": 0
      },
      "text/plain": [
       "VBox()"
      ]
     },
     "metadata": {},
     "output_type": "display_data"
    },
    {
     "name": "stdout",
     "output_type": "stream",
     "text": [
      "Starting Spark application\n"
     ]
    },
    {
     "data": {
      "text/html": [
       "<table>\n",
       "<tr><th>ID</th><th>YARN Application ID</th><th>Kind</th><th>State</th><th>Spark UI</th><th>Driver log</th><th>Current session?</th></tr><tr><td>7</td><td>application_1623793692045_0026</td><td>pyspark</td><td>idle</td><td><a target=\"_blank\" href=\"http://ip-172-31-28-87.us-west-2.compute.internal:20888/proxy/application_1623793692045_0026/\">Link</a></td><td><a target=\"_blank\" href=\"http://ip-172-31-20-225.us-west-2.compute.internal:8042/node/containerlogs/container_1623793692045_0026_01_000001/livy\">Link</a></td><td>✔</td></tr></table>"
      ],
      "text/plain": [
       "<IPython.core.display.HTML object>"
      ]
     },
     "metadata": {},
     "output_type": "display_data"
    },
    {
     "data": {
      "application/vnd.jupyter.widget-view+json": {
       "model_id": "",
       "version_major": 2,
       "version_minor": 0
      },
      "text/plain": [
       "FloatProgress(value=0.0, bar_style='info', description='Progress:', layout=Layout(height='25px', width='50%'),…"
      ]
     },
     "metadata": {},
     "output_type": "display_data"
    },
    {
     "name": "stdout",
     "output_type": "stream",
     "text": [
      "SparkSession available as 'spark'.\n"
     ]
    },
    {
     "data": {
      "application/vnd.jupyter.widget-view+json": {
       "model_id": "",
       "version_major": 2,
       "version_minor": 0
      },
      "text/plain": [
       "FloatProgress(value=0.0, bar_style='info', description='Progress:', layout=Layout(height='25px', width='50%'),…"
      ]
     },
     "metadata": {},
     "output_type": "display_data"
    }
   ],
   "source": [
    "from pyspark.sql import SparkSession"
   ]
  },
  {
   "cell_type": "code",
   "execution_count": 3,
   "id": "e8580cd2",
   "metadata": {},
   "outputs": [
    {
     "data": {
      "application/vnd.jupyter.widget-view+json": {
       "model_id": "94c6fb28f9e94a0dbcf71932e32f0287",
       "version_major": 2,
       "version_minor": 0
      },
      "text/plain": [
       "VBox()"
      ]
     },
     "metadata": {},
     "output_type": "display_data"
    },
    {
     "data": {
      "application/vnd.jupyter.widget-view+json": {
       "model_id": "",
       "version_major": 2,
       "version_minor": 0
      },
      "text/plain": [
       "FloatProgress(value=0.0, bar_style='info', description='Progress:', layout=Layout(height='25px', width='50%'),…"
      ]
     },
     "metadata": {},
     "output_type": "display_data"
    }
   ],
   "source": [
    "def create_spark_session():\n",
    "    spark = SparkSession \\\n",
    "        .builder \\\n",
    "        .config(\"spark.jars.packages\", \"org.apache.hadoop:hadoop-aws:2.7.0\") \\\n",
    "        .getOrCreate()\n",
    "    return spark"
   ]
  },
  {
   "cell_type": "code",
   "execution_count": 4,
   "id": "87b66d79",
   "metadata": {},
   "outputs": [
    {
     "data": {
      "application/vnd.jupyter.widget-view+json": {
       "model_id": "68162a2fa2bf4b0c961635ff8599b729",
       "version_major": 2,
       "version_minor": 0
      },
      "text/plain": [
       "VBox()"
      ]
     },
     "metadata": {},
     "output_type": "display_data"
    },
    {
     "data": {
      "application/vnd.jupyter.widget-view+json": {
       "model_id": "",
       "version_major": 2,
       "version_minor": 0
      },
      "text/plain": [
       "FloatProgress(value=0.0, bar_style='info', description='Progress:', layout=Layout(height='25px', width='50%'),…"
      ]
     },
     "metadata": {},
     "output_type": "display_data"
    }
   ],
   "source": [
    "spark = create_spark_session()"
   ]
  },
  {
   "cell_type": "markdown",
   "id": "03fafef4",
   "metadata": {},
   "source": [
    "# Initialize"
   ]
  },
  {
   "cell_type": "markdown",
   "id": "cf8653a2",
   "metadata": {},
   "source": [
    "Run this command to remove any existing files in processed directory in HDFS.\n",
    "\n",
    "```bash\n",
    "hadoop fs -rm -r hdfs:///processed/*\n",
    "```"
   ]
  },
  {
   "cell_type": "markdown",
   "id": "224a9381",
   "metadata": {},
   "source": [
    "# Songs dataset"
   ]
  },
  {
   "cell_type": "markdown",
   "id": "628dc810",
   "metadata": {},
   "source": [
    "## Load data"
   ]
  },
  {
   "cell_type": "code",
   "execution_count": 5,
   "id": "ba812de7",
   "metadata": {},
   "outputs": [
    {
     "data": {
      "application/vnd.jupyter.widget-view+json": {
       "model_id": "3faccef983a14e50b59c857edc3ef53b",
       "version_major": 2,
       "version_minor": 0
      },
      "text/plain": [
       "VBox()"
      ]
     },
     "metadata": {},
     "output_type": "display_data"
    },
    {
     "data": {
      "application/vnd.jupyter.widget-view+json": {
       "model_id": "",
       "version_major": 2,
       "version_minor": 0
      },
      "text/plain": [
       "FloatProgress(value=0.0, bar_style='info', description='Progress:', layout=Layout(height='25px', width='50%'),…"
      ]
     },
     "metadata": {},
     "output_type": "display_data"
    }
   ],
   "source": [
    "staging_songs = spark.read.json(\"s3a://udacity-dend/song-data/A/A/*/*.json\")  # TODO: change A/A to */* in prod"
   ]
  },
  {
   "cell_type": "code",
   "execution_count": 6,
   "id": "fd94bc51",
   "metadata": {},
   "outputs": [
    {
     "data": {
      "application/vnd.jupyter.widget-view+json": {
       "model_id": "7332df19ca754892a1b1fe94a125d67b",
       "version_major": 2,
       "version_minor": 0
      },
      "text/plain": [
       "VBox()"
      ]
     },
     "metadata": {},
     "output_type": "display_data"
    },
    {
     "data": {
      "application/vnd.jupyter.widget-view+json": {
       "model_id": "",
       "version_major": 2,
       "version_minor": 0
      },
      "text/plain": [
       "FloatProgress(value=0.0, bar_style='info', description='Progress:', layout=Layout(height='25px', width='50%'),…"
      ]
     },
     "metadata": {},
     "output_type": "display_data"
    }
   ],
   "source": [
    "staging_songs.createOrReplaceTempView(\"staging_songs\")"
   ]
  },
  {
   "cell_type": "markdown",
   "id": "b04a7cf1",
   "metadata": {},
   "source": [
    "## Transform"
   ]
  },
  {
   "cell_type": "markdown",
   "id": "b174d811",
   "metadata": {},
   "source": [
    "### Songs"
   ]
  },
  {
   "cell_type": "code",
   "execution_count": 7,
   "id": "25a11775",
   "metadata": {},
   "outputs": [
    {
     "data": {
      "application/vnd.jupyter.widget-view+json": {
       "model_id": "88087543368b4d36915b1a9145ce9dbc",
       "version_major": 2,
       "version_minor": 0
      },
      "text/plain": [
       "VBox()"
      ]
     },
     "metadata": {},
     "output_type": "display_data"
    },
    {
     "data": {
      "application/vnd.jupyter.widget-view+json": {
       "model_id": "",
       "version_major": 2,
       "version_minor": 0
      },
      "text/plain": [
       "FloatProgress(value=0.0, bar_style='info', description='Progress:', layout=Layout(height='25px', width='50%'),…"
      ]
     },
     "metadata": {},
     "output_type": "display_data"
    }
   ],
   "source": [
    "songs = spark.sql(\n",
    "'''\n",
    "    select\n",
    "        song_id,\n",
    "        title,\n",
    "        artist_id,\n",
    "        year,\n",
    "        duration\n",
    "    from\n",
    "        staging_songs\n",
    "'''\n",
    ")"
   ]
  },
  {
   "cell_type": "code",
   "execution_count": 8,
   "id": "2bece11d",
   "metadata": {},
   "outputs": [
    {
     "data": {
      "application/vnd.jupyter.widget-view+json": {
       "model_id": "e70816b84a7f40889acbd532296ed80e",
       "version_major": 2,
       "version_minor": 0
      },
      "text/plain": [
       "VBox()"
      ]
     },
     "metadata": {},
     "output_type": "display_data"
    },
    {
     "data": {
      "application/vnd.jupyter.widget-view+json": {
       "model_id": "",
       "version_major": 2,
       "version_minor": 0
      },
      "text/plain": [
       "FloatProgress(value=0.0, bar_style='info', description='Progress:', layout=Layout(height='25px', width='50%'),…"
      ]
     },
     "metadata": {},
     "output_type": "display_data"
    }
   ],
   "source": [
    "songs.write.parquet('hdfs:///processed/songs')"
   ]
  },
  {
   "cell_type": "markdown",
   "id": "5feebe84",
   "metadata": {},
   "source": [
    "### Artists"
   ]
  },
  {
   "cell_type": "code",
   "execution_count": 9,
   "id": "063cc827",
   "metadata": {},
   "outputs": [
    {
     "data": {
      "application/vnd.jupyter.widget-view+json": {
       "model_id": "7cf0534ab19a42faaaa523de10188744",
       "version_major": 2,
       "version_minor": 0
      },
      "text/plain": [
       "VBox()"
      ]
     },
     "metadata": {},
     "output_type": "display_data"
    },
    {
     "data": {
      "application/vnd.jupyter.widget-view+json": {
       "model_id": "",
       "version_major": 2,
       "version_minor": 0
      },
      "text/plain": [
       "FloatProgress(value=0.0, bar_style='info', description='Progress:', layout=Layout(height='25px', width='50%'),…"
      ]
     },
     "metadata": {},
     "output_type": "display_data"
    }
   ],
   "source": [
    "artists = spark.sql(\n",
    "'''\n",
    "    select\n",
    "        artist_id,\n",
    "        max(artist_name) as name,\n",
    "        max(artist_location) as location,\n",
    "        max(artist_latitude) as latitude,\n",
    "        max(artist_longitude) as longitude\n",
    "    from\n",
    "        staging_songs\n",
    "    group by 1\n",
    "'''\n",
    ")"
   ]
  },
  {
   "cell_type": "code",
   "execution_count": 10,
   "id": "63628c5d",
   "metadata": {},
   "outputs": [
    {
     "data": {
      "application/vnd.jupyter.widget-view+json": {
       "model_id": "b646fb193481488eb78c1d6a2a98e712",
       "version_major": 2,
       "version_minor": 0
      },
      "text/plain": [
       "VBox()"
      ]
     },
     "metadata": {},
     "output_type": "display_data"
    },
    {
     "data": {
      "application/vnd.jupyter.widget-view+json": {
       "model_id": "",
       "version_major": 2,
       "version_minor": 0
      },
      "text/plain": [
       "FloatProgress(value=0.0, bar_style='info', description='Progress:', layout=Layout(height='25px', width='50%'),…"
      ]
     },
     "metadata": {},
     "output_type": "display_data"
    }
   ],
   "source": [
    "artists.write.parquet('hdfs:///processed/artists')"
   ]
  },
  {
   "cell_type": "markdown",
   "id": "7d71d7a7",
   "metadata": {},
   "source": [
    "# Logs dataset"
   ]
  },
  {
   "cell_type": "markdown",
   "id": "0a39b319",
   "metadata": {},
   "source": [
    "## Load data"
   ]
  },
  {
   "cell_type": "code",
   "execution_count": 11,
   "id": "3a782827",
   "metadata": {},
   "outputs": [
    {
     "data": {
      "application/vnd.jupyter.widget-view+json": {
       "model_id": "8f592d0a5f7949f88c089fa6781e8ee3",
       "version_major": 2,
       "version_minor": 0
      },
      "text/plain": [
       "VBox()"
      ]
     },
     "metadata": {},
     "output_type": "display_data"
    },
    {
     "data": {
      "application/vnd.jupyter.widget-view+json": {
       "model_id": "",
       "version_major": 2,
       "version_minor": 0
      },
      "text/plain": [
       "FloatProgress(value=0.0, bar_style='info', description='Progress:', layout=Layout(height='25px', width='50%'),…"
      ]
     },
     "metadata": {},
     "output_type": "display_data"
    }
   ],
   "source": [
    "base_events = spark.read.json(\"s3a://udacity-dend/log-data/*/*/*.json\")"
   ]
  },
  {
   "cell_type": "code",
   "execution_count": 12,
   "id": "ec223dd1",
   "metadata": {},
   "outputs": [
    {
     "data": {
      "application/vnd.jupyter.widget-view+json": {
       "model_id": "0ce4001937c2493495a8236f6d2f49e8",
       "version_major": 2,
       "version_minor": 0
      },
      "text/plain": [
       "VBox()"
      ]
     },
     "metadata": {},
     "output_type": "display_data"
    },
    {
     "data": {
      "application/vnd.jupyter.widget-view+json": {
       "model_id": "",
       "version_major": 2,
       "version_minor": 0
      },
      "text/plain": [
       "FloatProgress(value=0.0, bar_style='info', description='Progress:', layout=Layout(height='25px', width='50%'),…"
      ]
     },
     "metadata": {},
     "output_type": "display_data"
    }
   ],
   "source": [
    "base_events.createOrReplaceTempView(\"base_events\")"
   ]
  },
  {
   "cell_type": "code",
   "execution_count": 13,
   "id": "d0cb4e1d",
   "metadata": {},
   "outputs": [
    {
     "data": {
      "application/vnd.jupyter.widget-view+json": {
       "model_id": "26bd8272a17b4072a43cb38508dc220f",
       "version_major": 2,
       "version_minor": 0
      },
      "text/plain": [
       "VBox()"
      ]
     },
     "metadata": {},
     "output_type": "display_data"
    },
    {
     "data": {
      "application/vnd.jupyter.widget-view+json": {
       "model_id": "",
       "version_major": 2,
       "version_minor": 0
      },
      "text/plain": [
       "FloatProgress(value=0.0, bar_style='info', description='Progress:', layout=Layout(height='25px', width='50%'),…"
      ]
     },
     "metadata": {},
     "output_type": "display_data"
    }
   ],
   "source": [
    "staging_events = spark.sql(\n",
    "'''\n",
    "    select\n",
    "        artist as artist,\n",
    "        auth as auth,\n",
    "        firstName as first_name,\n",
    "        gender as gender,\n",
    "        itemInSession as item_in_session,\n",
    "        lastName as last_name,\n",
    "        length as length,\n",
    "        level as level,\n",
    "        location as location,\n",
    "        method as method,\n",
    "        page as page,\n",
    "        registration as registration,\n",
    "        sessionId as session_id,\n",
    "        song as song,\n",
    "        status as status,\n",
    "        ts as ts,\n",
    "        userAgent as user_agent,\n",
    "        userId as user_id\n",
    "    from\n",
    "        base_events\n",
    "'''\n",
    ")"
   ]
  },
  {
   "cell_type": "code",
   "execution_count": 14,
   "id": "01c1c037",
   "metadata": {},
   "outputs": [
    {
     "data": {
      "application/vnd.jupyter.widget-view+json": {
       "model_id": "b393ecdef9114d9ebbf96db5fe03250d",
       "version_major": 2,
       "version_minor": 0
      },
      "text/plain": [
       "VBox()"
      ]
     },
     "metadata": {},
     "output_type": "display_data"
    },
    {
     "data": {
      "application/vnd.jupyter.widget-view+json": {
       "model_id": "",
       "version_major": 2,
       "version_minor": 0
      },
      "text/plain": [
       "FloatProgress(value=0.0, bar_style='info', description='Progress:', layout=Layout(height='25px', width='50%'),…"
      ]
     },
     "metadata": {},
     "output_type": "display_data"
    }
   ],
   "source": [
    "staging_events.createOrReplaceTempView(\"staging_events\")"
   ]
  },
  {
   "cell_type": "markdown",
   "id": "1dc7b419",
   "metadata": {},
   "source": [
    "## Transform"
   ]
  },
  {
   "cell_type": "markdown",
   "id": "4d13ee14",
   "metadata": {},
   "source": [
    "### Users"
   ]
  },
  {
   "cell_type": "code",
   "execution_count": 15,
   "id": "ad766f50",
   "metadata": {},
   "outputs": [
    {
     "data": {
      "application/vnd.jupyter.widget-view+json": {
       "model_id": "10c0a2941808491b927a4401fae619ce",
       "version_major": 2,
       "version_minor": 0
      },
      "text/plain": [
       "VBox()"
      ]
     },
     "metadata": {},
     "output_type": "display_data"
    },
    {
     "data": {
      "application/vnd.jupyter.widget-view+json": {
       "model_id": "",
       "version_major": 2,
       "version_minor": 0
      },
      "text/plain": [
       "FloatProgress(value=0.0, bar_style='info', description='Progress:', layout=Layout(height='25px', width='50%'),…"
      ]
     },
     "metadata": {},
     "output_type": "display_data"
    }
   ],
   "source": [
    "users = spark.sql(\n",
    "'''\n",
    "    with events as\n",
    "    (\n",
    "        select * from staging_events\n",
    "    ),\n",
    "\n",
    "    add_row_number_and_remove_null_ids as\n",
    "    (\n",
    "        select\n",
    "            *,\n",
    "            row_number() over (partition by user_id order by ts desc) as row_number_by_user\n",
    "        from\n",
    "            events\n",
    "        where\n",
    "            user_id is not null\n",
    "    ),\n",
    "    \n",
    "    latest_user_events as\n",
    "    (\n",
    "        -- this is done to get latest user event since `level` can change over time\n",
    "        select\n",
    "            *\n",
    "        from\n",
    "            add_row_number_and_remove_null_ids\n",
    "        where\n",
    "            row_number_by_user = 1\n",
    "    )\n",
    "\n",
    "    select\n",
    "        user_id,\n",
    "        first_name,\n",
    "        last_name,\n",
    "        gender,\n",
    "        level\n",
    "    from\n",
    "        latest_user_events\n",
    "'''\n",
    ")"
   ]
  },
  {
   "cell_type": "code",
   "execution_count": 16,
   "id": "bd6f11f4",
   "metadata": {},
   "outputs": [
    {
     "data": {
      "application/vnd.jupyter.widget-view+json": {
       "model_id": "5c4c6bc75685451cb69ef096092734e3",
       "version_major": 2,
       "version_minor": 0
      },
      "text/plain": [
       "VBox()"
      ]
     },
     "metadata": {},
     "output_type": "display_data"
    },
    {
     "data": {
      "application/vnd.jupyter.widget-view+json": {
       "model_id": "",
       "version_major": 2,
       "version_minor": 0
      },
      "text/plain": [
       "FloatProgress(value=0.0, bar_style='info', description='Progress:', layout=Layout(height='25px', width='50%'),…"
      ]
     },
     "metadata": {},
     "output_type": "display_data"
    }
   ],
   "source": [
    "users.write.parquet('hdfs:///processed/users')"
   ]
  },
  {
   "cell_type": "markdown",
   "id": "eb418ca6",
   "metadata": {},
   "source": [
    "### Songplays"
   ]
  },
  {
   "cell_type": "code",
   "execution_count": 17,
   "id": "d5fd7d8d",
   "metadata": {},
   "outputs": [
    {
     "data": {
      "application/vnd.jupyter.widget-view+json": {
       "model_id": "5d43885fbfc64f66b55dd2e65b44cd53",
       "version_major": 2,
       "version_minor": 0
      },
      "text/plain": [
       "VBox()"
      ]
     },
     "metadata": {},
     "output_type": "display_data"
    },
    {
     "data": {
      "application/vnd.jupyter.widget-view+json": {
       "model_id": "",
       "version_major": 2,
       "version_minor": 0
      },
      "text/plain": [
       "FloatProgress(value=0.0, bar_style='info', description='Progress:', layout=Layout(height='25px', width='50%'),…"
      ]
     },
     "metadata": {},
     "output_type": "display_data"
    }
   ],
   "source": [
    "songplays = spark.sql(\n",
    "'''\n",
    "    with events as\n",
    "    (\n",
    "       select * from staging_events\n",
    "    ),\n",
    "\n",
    "    songs as\n",
    "    (\n",
    "        select * from staging_songs\n",
    "    ),\n",
    "\n",
    "    only_next_song_events as\n",
    "    (\n",
    "        select\n",
    "            *\n",
    "        from\n",
    "            events\n",
    "        where\n",
    "            page = 'NextSong'\n",
    "    ),\n",
    "\n",
    "    events_with_converted_timestamp as\n",
    "    (\n",
    "        select\n",
    "            *,\n",
    "            from_unixtime(ts / 1000) as start_time\n",
    "        from\n",
    "            only_next_song_events\n",
    "    ),\n",
    "\n",
    "    joined as\n",
    "    (\n",
    "        select\n",
    "            e.start_time,\n",
    "            e.user_id,\n",
    "            e.level,\n",
    "            s.song_id,\n",
    "            s.artist_id,\n",
    "            e.session_id,\n",
    "            e.location,\n",
    "            e.user_agent\n",
    "        from\n",
    "            events_with_converted_timestamp e\n",
    "            left outer join songs s on e.song = s.title\n",
    "    ),\n",
    "\n",
    "    final as (\n",
    "        select\n",
    "            -- create songplay id based on other columns that form a unique combination\n",
    "            md5(\n",
    "                coalesce(cast(user_id as string), '') || coalesce(song_id, '') || coalesce(cast(start_time as string), '')\n",
    "            ) as songplay_id,\n",
    "            *\n",
    "        from\n",
    "            joined\n",
    "    )\n",
    "\n",
    "    select * from final\n",
    "\n",
    "'''\n",
    ")"
   ]
  },
  {
   "cell_type": "code",
   "execution_count": 18,
   "id": "1f148924",
   "metadata": {},
   "outputs": [
    {
     "data": {
      "application/vnd.jupyter.widget-view+json": {
       "model_id": "197cbf812b044d688002a2f13b40f11f",
       "version_major": 2,
       "version_minor": 0
      },
      "text/plain": [
       "VBox()"
      ]
     },
     "metadata": {},
     "output_type": "display_data"
    },
    {
     "data": {
      "application/vnd.jupyter.widget-view+json": {
       "model_id": "",
       "version_major": 2,
       "version_minor": 0
      },
      "text/plain": [
       "FloatProgress(value=0.0, bar_style='info', description='Progress:', layout=Layout(height='25px', width='50%'),…"
      ]
     },
     "metadata": {},
     "output_type": "display_data"
    }
   ],
   "source": [
    "songplays.createOrReplaceTempView(\"songplays\")  # Register as temp view to be used as time table dependency"
   ]
  },
  {
   "cell_type": "code",
   "execution_count": 19,
   "id": "b745cbc1",
   "metadata": {},
   "outputs": [
    {
     "data": {
      "application/vnd.jupyter.widget-view+json": {
       "model_id": "c034c5b3b2374f95aa0030e7f307efcf",
       "version_major": 2,
       "version_minor": 0
      },
      "text/plain": [
       "VBox()"
      ]
     },
     "metadata": {},
     "output_type": "display_data"
    },
    {
     "data": {
      "application/vnd.jupyter.widget-view+json": {
       "model_id": "",
       "version_major": 2,
       "version_minor": 0
      },
      "text/plain": [
       "FloatProgress(value=0.0, bar_style='info', description='Progress:', layout=Layout(height='25px', width='50%'),…"
      ]
     },
     "metadata": {},
     "output_type": "display_data"
    }
   ],
   "source": [
    "songplays.write.parquet('hdfs:///processed/songplays')"
   ]
  },
  {
   "cell_type": "markdown",
   "id": "01de02f3",
   "metadata": {},
   "source": [
    "### Time"
   ]
  },
  {
   "cell_type": "code",
   "execution_count": 20,
   "id": "535e54e9",
   "metadata": {},
   "outputs": [
    {
     "data": {
      "application/vnd.jupyter.widget-view+json": {
       "model_id": "09dac720f00a4ea480fc76dd7930a554",
       "version_major": 2,
       "version_minor": 0
      },
      "text/plain": [
       "VBox()"
      ]
     },
     "metadata": {},
     "output_type": "display_data"
    },
    {
     "data": {
      "application/vnd.jupyter.widget-view+json": {
       "model_id": "",
       "version_major": 2,
       "version_minor": 0
      },
      "text/plain": [
       "FloatProgress(value=0.0, bar_style='info', description='Progress:', layout=Layout(height='25px', width='50%'),…"
      ]
     },
     "metadata": {},
     "output_type": "display_data"
    }
   ],
   "source": [
    "time = spark.sql(\n",
    "'''\n",
    "    select\n",
    "        start_time,\n",
    "        extract(hour from start_time) as hour,\n",
    "        extract(day from start_time) as day,\n",
    "        extract(week from start_time) as week,\n",
    "        extract(month from start_time) as month,\n",
    "        extract(year from start_time) as year,\n",
    "        dayofweek(start_time) as weekday\n",
    "    from\n",
    "        songplays\n",
    "\n",
    "'''\n",
    ")"
   ]
  },
  {
   "cell_type": "code",
   "execution_count": 21,
   "id": "7a2276fb",
   "metadata": {},
   "outputs": [
    {
     "data": {
      "application/vnd.jupyter.widget-view+json": {
       "model_id": "ea5e8ab20f1446799e7c8b172f8a9b9a",
       "version_major": 2,
       "version_minor": 0
      },
      "text/plain": [
       "VBox()"
      ]
     },
     "metadata": {},
     "output_type": "display_data"
    },
    {
     "data": {
      "application/vnd.jupyter.widget-view+json": {
       "model_id": "",
       "version_major": 2,
       "version_minor": 0
      },
      "text/plain": [
       "FloatProgress(value=0.0, bar_style='info', description='Progress:', layout=Layout(height='25px', width='50%'),…"
      ]
     },
     "metadata": {},
     "output_type": "display_data"
    }
   ],
   "source": [
    "time.write.parquet('hdfs:///processed/time')"
   ]
  },
  {
   "cell_type": "markdown",
   "id": "665af339",
   "metadata": {},
   "source": [
    "## Drop temp views"
   ]
  },
  {
   "cell_type": "code",
   "execution_count": 22,
   "id": "1b67289b",
   "metadata": {},
   "outputs": [
    {
     "data": {
      "application/vnd.jupyter.widget-view+json": {
       "model_id": "35237f645b814bc6ac5970bf67089e6e",
       "version_major": 2,
       "version_minor": 0
      },
      "text/plain": [
       "VBox()"
      ]
     },
     "metadata": {},
     "output_type": "display_data"
    },
    {
     "data": {
      "application/vnd.jupyter.widget-view+json": {
       "model_id": "",
       "version_major": 2,
       "version_minor": 0
      },
      "text/plain": [
       "FloatProgress(value=0.0, bar_style='info', description='Progress:', layout=Layout(height='25px', width='50%'),…"
      ]
     },
     "metadata": {},
     "output_type": "display_data"
    }
   ],
   "source": [
    "spark.catalog.dropTempView(\"staging_songs\")\n",
    "spark.catalog.dropTempView(\"base_events\")\n",
    "spark.catalog.dropTempView(\"staging_events\")\n",
    "spark.catalog.dropTempView(\"songplays\")"
   ]
  },
  {
   "cell_type": "markdown",
   "id": "484dba75",
   "metadata": {},
   "source": [
    "## Copy from HDFS to S3"
   ]
  },
  {
   "cell_type": "markdown",
   "id": "be51393a",
   "metadata": {},
   "source": [
    "Finally, run this command to copy from HDFS to S3:\n",
    "\n",
    "```bash\n",
    "s3-dist-cp \\\n",
    "--src hdfs:///processed \\\n",
    "--dest s3a://udacity-data-lake-spark/processed\n",
    "```"
   ]
  },
  {
   "cell_type": "code",
   "execution_count": null,
   "id": "223a9965",
   "metadata": {},
   "outputs": [],
   "source": []
  }
 ],
 "metadata": {
  "kernelspec": {
   "display_name": "PySpark",
   "language": "",
   "name": "pysparkkernel"
  },
  "language_info": {
   "codemirror_mode": {
    "name": "python",
    "version": 2
   },
   "mimetype": "text/x-python",
   "name": "pyspark",
   "pygments_lexer": "python2"
  }
 },
 "nbformat": 4,
 "nbformat_minor": 5
}
